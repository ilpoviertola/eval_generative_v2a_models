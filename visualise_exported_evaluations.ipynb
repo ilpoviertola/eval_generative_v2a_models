{
 "cells": [
  {
   "cell_type": "markdown",
   "metadata": {},
   "source": [
    "# Read and plot exported results"
   ]
  },
  {
   "cell_type": "code",
   "execution_count": 3,
   "metadata": {},
   "outputs": [
    {
     "name": "stderr",
     "output_type": "stream",
     "text": [
      "/home/ilpo/miniconda3/envs/eval_v2a/lib/python3.9/site-packages/tqdm/auto.py:21: TqdmWarning: IProgress not found. Please update jupyter and ipywidgets. See https://ipywidgets.readthedocs.io/en/stable/user_install.html\n",
      "  from .autonotebook import tqdm as notebook_tqdm\n"
     ]
    }
   ],
   "source": [
    "from pathlib import Path\n",
    "from pprint import pprint\n",
    "\n",
    "from metrics.evaluation_metrics_combiner import EvaluationMetricsCombiner\n",
    "\n",
    "%reload_ext autoreload\n",
    "%autoreload 2"
   ]
  },
  {
   "cell_type": "code",
   "execution_count": 4,
   "metadata": {},
   "outputs": [],
   "source": [
    "files = [\n",
    "    \"/home/hdd/ilpo/checkpoints/synchronisonix/24-02-27T16-46-55/24-02-27T16-46-55/generated_samples_24-04-17T14-24-06/debug/results_24-04-19T12-08-47.yaml\",\n",
    "    \"/home/ilpo/repos/SpecVQGAN/logs/2024-04-16T14-16-42_greatesthit_transformer/samples_2024-04-17T09-54-50/GreatestHits_test/videos/partition1/debug/results_24-04-19T12-08-34.yaml\",\n",
    "]"
   ]
  },
  {
   "cell_type": "code",
   "execution_count": 11,
   "metadata": {},
   "outputs": [
    {
     "name": "stdout",
     "output_type": "stream",
     "text": [
      "Evaluation pipeline:\n",
      "id: gh-syncsonix-unflattened\n",
      "sample_directory: /home/hdd/ilpo/checkpoints/synchronisonix/24-02-27T16-46-55/24-02-27T16-46-55/generated_samples_24-04-17T14-24-06/debug\n",
      "gt_directory: /home/hdd/ilpo/datasets/greatesthit/vis-data-256_h264_video_25fps_256side_24000hz_aac_len_5_splitby_random\n",
      "result_directory: /home/hdd/ilpo/checkpoints/synchronisonix/24-02-27T16-46-55/24-02-27T16-46-55/generated_samples_24-04-17T14-24-06/debug\n",
      "PipelineCfg(fad=FADCfg(model_name='vggish', sample_rate=16000, use_pca=False, use_activation=False, dtype='float32', embeddings_fn='vggish_embeddings.npy'), kld=KLDCfg(pretrained_length=10, batch_size=10, num_workers=10, duration=2.0), insync=InSyncCfg(exp_name='24-01-04T16-39-21', device='cuda:0', vfps=25, afps=16000, input_size=256, ckpt_parent_path='./checkpoints/sync_models'), avclip_score=AVClipScoreCfg(exp_name='24-01-04T16-39-21', device='cuda:0', vfps=25, afps=16000, input_size=256, ckpt_parent_path='./checkpoints/sync_models'))\n",
      "verbose: True\n",
      "\n",
      "Evaluation pipeline:\n",
      "id: gh-specvqgan\n",
      "sample_directory: /home/ilpo/repos/SpecVQGAN/logs/2024-04-16T14-16-42_greatesthit_transformer/samples_2024-04-17T09-54-50/GreatestHits_test/videos/partition1/debug\n",
      "gt_directory: /home/hdd/ilpo/datasets/greatesthit/vis-data-256_h264_video_25fps_256side_24000hz_aac_len_5_splitby_random\n",
      "result_directory: /home/ilpo/repos/SpecVQGAN/logs/2024-04-16T14-16-42_greatesthit_transformer/samples_2024-04-17T09-54-50/GreatestHits_test/videos/partition1/debug\n",
      "PipelineCfg(fad=FADCfg(model_name='vggish', sample_rate=16000, use_pca=False, use_activation=False, dtype='float32', embeddings_fn='vggish_embeddings.npy'), kld=KLDCfg(pretrained_length=10, batch_size=10, num_workers=10, duration=2.0), insync=InSyncCfg(exp_name='24-01-04T16-39-21', device='cuda:0', vfps=25, afps=16000, input_size=256, ckpt_parent_path='./checkpoints/sync_models'), avclip_score=AVClipScoreCfg(exp_name='24-01-04T16-39-21', device='cuda:0', vfps=25, afps=16000, input_size=256, ckpt_parent_path='./checkpoints/sync_models'))\n",
      "verbose: True\n",
      "\n",
      "{'avclip_score': (['gh-syncsonix-unflattened:debug', 'gh-specvqgan:debug'],\n",
      "                  [0.4986140578985214, 0.5053664147853851]),\n",
      " 'fad': (['gh-syncsonix-unflattened:debug', 'gh-specvqgan:debug'],\n",
      "         [5.3342911461507665, 7.773885727648581]),\n",
      " 'insync': (['gh-syncsonix-unflattened:debug', 'gh-specvqgan:debug'],\n",
      "            [0.16666666666666666, 0.3333333333333333]),\n",
      " 'insync_per_video': (['gh-syncsonix-unflattened:reencoded_to_25vfps_16000afps_256size/2015-10-06-21-13-36-13_denoised_1262.mp4',\n",
      "                       'gh-syncsonix-unflattened:reencoded_to_25vfps_16000afps_256size/2015-10-06-21-13-36-13_denoised_1784.mp4',\n",
      "                       'gh-syncsonix-unflattened:reencoded_to_25vfps_16000afps_256size/2015-10-06-21-13-36-13_denoised_1919.mp4',\n",
      "                       'gh-syncsonix-unflattened:reencoded_to_25vfps_16000afps_256size/2015-10-06-21-13-36-13_denoised_283.mp4',\n",
      "                       'gh-syncsonix-unflattened:reencoded_to_25vfps_16000afps_256size/2015-10-06-21-13-36-13_denoised_557.mp4',\n",
      "                       'gh-syncsonix-unflattened:reencoded_to_25vfps_16000afps_256size/2015-10-06-21-13-36-13_denoised_916.mp4',\n",
      "                       'gh-specvqgan:reencoded_to_25vfps_16000afps_256size/2015-10-06-21-13-36-13_denoised_1262.mp4',\n",
      "                       'gh-specvqgan:reencoded_to_25vfps_16000afps_256size/2015-10-06-21-13-36-13_denoised_1784.mp4',\n",
      "                       'gh-specvqgan:reencoded_to_25vfps_16000afps_256size/2015-10-06-21-13-36-13_denoised_1919.mp4',\n",
      "                       'gh-specvqgan:reencoded_to_25vfps_16000afps_256size/2015-10-06-21-13-36-13_denoised_283.mp4',\n",
      "                       'gh-specvqgan:reencoded_to_25vfps_16000afps_256size/2015-10-06-21-13-36-13_denoised_557.mp4',\n",
      "                       'gh-specvqgan:reencoded_to_25vfps_16000afps_256size/2015-10-06-21-13-36-13_denoised_916.mp4'],\n",
      "                      [0, 0, 0, 0, 1, 0, 0, 1, 0, 0, 0, 1]),\n",
      " 'kld': (['gh-syncsonix-unflattened:debug', 'gh-specvqgan:debug'],\n",
      "         [3.6210915247599282, 3.6107730865478516])}\n"
     ]
    }
   ],
   "source": [
    "files = [Path(f) for f in files]\n",
    "combined_results = EvaluationMetricsCombiner(result_file_paths=files)\n",
    "pprint(combined_results.combine())"
   ]
  },
  {
   "cell_type": "markdown",
   "metadata": {},
   "source": [
    "## Plotting\n",
    "Plotting the combined results. **Here you can define the plotting directory**."
   ]
  },
  {
   "cell_type": "code",
   "execution_count": 12,
   "metadata": {},
   "outputs": [
    {
     "data": {
      "text/plain": [
       "{'avclip_score': PosixPath('gh-syncsonix-unflattened_gh-specvqgan-avclip_score.png'),\n",
       " 'fad': PosixPath('gh-syncsonix-unflattened_gh-specvqgan-fad.png'),\n",
       " 'insync': PosixPath('gh-syncsonix-unflattened_gh-specvqgan-insync.png'),\n",
       " 'kld': PosixPath('gh-syncsonix-unflattened_gh-specvqgan-kld.png')}"
      ]
     },
     "execution_count": 12,
     "metadata": {},
     "output_type": "execute_result"
    }
   ],
   "source": [
    "# Define the output directory for the plots (if desired)\n",
    "# if not defined, the plots will not be saved but returned as matplotlib figures and\n",
    "# displayed in the notebook. (You can save them manually from the notebook)\n",
    "plot_dir = \".\"\n",
    "combined_results.plot(plot_dir)"
   ]
  }
 ],
 "metadata": {
  "kernelspec": {
   "display_name": "eval_v2a",
   "language": "python",
   "name": "python3"
  },
  "language_info": {
   "codemirror_mode": {
    "name": "ipython",
    "version": 3
   },
   "file_extension": ".py",
   "mimetype": "text/x-python",
   "name": "python",
   "nbconvert_exporter": "python",
   "pygments_lexer": "ipython3",
   "version": "3.9.18"
  }
 },
 "nbformat": 4,
 "nbformat_minor": 2
}
