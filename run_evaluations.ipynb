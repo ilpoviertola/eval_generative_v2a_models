{
 "cells": [
  {
   "cell_type": "markdown",
   "metadata": {},
   "source": [
    "# Evaluate generative multimodal audio models\n",
    "\n",
    "Use this notebook to evaluate the generative multimodal audio models. This notebook uses following metrics:\n",
    "\n",
    "- Frechet Audio Distance (FAD)\n",
    "- Kulback-Leibler Divergence (KLD)\n",
    "- ImageBind score (IB)\n",
    "- Synchronisation Error (SE)\n",
    "\n",
    "**Note** Sometimes GPU resources are not freed until the Jupyter Kernel is restarted. If you encounter CUDA out of memory error, please restart the kernel and run the notebook again.\n",
    "\n",
    "## Setup\n",
    "User must have\n",
    "\n",
    "1. Generated audio samples\n",
    "1. GT audios for given videos that were used when generating the audio\n",
    "\n",
    "## Configuration"
   ]
  },
  {
   "cell_type": "code",
   "execution_count": 1,
   "metadata": {},
   "outputs": [],
   "source": [
    "from pathlib import Path\n",
    "from pprint import pprint\n",
    "\n",
    "from eval_utils.utils import dataclass_from_dict\n",
    "from configs.evaluation_cfg import EvaluationCfg\n",
    "from metrics.evaluation_metrics import EvaluationMetrics\n",
    "\n",
    "%reload_ext autoreload\n",
    "%autoreload 2"
   ]
  },
  {
   "cell_type": "code",
   "execution_count": 2,
   "metadata": {},
   "outputs": [
    {
     "name": "stdout",
     "output_type": "stream",
     "text": [
      "Evaluation pipeline:\n",
      "sample_directory: /home/hdd/data/greatesthits/evaluation/23-12-15T11-35-49/generated_samples_24-01-04T14-12-53_debug\n",
      "gt_directory: /home/hdd/data/greatesthits/evaluation/GT\n",
      "result_directory: /home/hdd/data/greatesthits/evaluation/23-12-15T11-35-49/generated_samples_24-01-04T14-12-53_debug\n",
      "PipelineCfg(fad=FADCfg(model_name='vggish', sample_rate=16000, use_pca=False, use_activation=False, dtype='float32', embeddings_fn='vggish_embeddings.npy'), kld=KLDCfg(pretrained_length=10, batch_size=10, num_workers=10, duration=2.0), insync=InSyncCfg(exp_name='24-01-25T18-57-06', device='cuda:0', vfps=25, afps=24000, input_size=224, ckpt_parent_path='./logs/sync_models'))\n",
      "verbose: True\n"
     ]
    }
   ],
   "source": [
    "sample_dir = Path(\"/home/hdd/data/greatesthits/evaluation/23-12-15T11-35-49/generated_samples_24-01-04T14-12-53_debug\")\n",
    "# init evaluation config with default KLD and FAD metrics\n",
    "evaluation_cfg = dataclass_from_dict(EvaluationCfg, {\"sample_directory\": sample_dir, \"verbose\": True, \"pipeline\": {\"fad\": {}, \"kld\": {}, \"insync\": {}}})\n",
    "assert type(evaluation_cfg) == EvaluationCfg\n"
   ]
  },
  {
   "cell_type": "markdown",
   "metadata": {},
   "source": [
    "# Metrics\n",
    "Metrics class are initialised with the *EvaluationCfg* -class which defines the evaluation pipeline."
   ]
  },
  {
   "cell_type": "code",
   "execution_count": 3,
   "metadata": {},
   "outputs": [
    {
     "name": "stderr",
     "output_type": "stream",
     "text": [
      "Reencoding directory generated_samples_24-01-04T14-12-53_debug to 25 fps, 24000 afps, 224 input size: 100%|██████████| 50/50 [00:03<00:00, 14.80it/s]\n"
     ]
    },
    {
     "name": "stdout",
     "output_type": "stream",
     "text": [
      "No need to reencode\n"
     ]
    },
    {
     "name": "stderr",
     "output_type": "stream",
     "text": [
      "/home/ilpo/miniconda3/envs/eval_gen_audio_models/lib/python3.8/site-packages/torch/nn/functional.py:1338: UserWarning: dropout2d: Received a 3D input to dropout2d and assuming that channel-wise 1D dropout behavior is desired - input is interpreted as shape (N, C, L), where C is the channel dim. This behavior will change in a future release to interpret the input as one without a batch dimension, i.e. shape (C, H, W). To maintain the 1D channel-wise dropout behavior, please switch to using dropout1d instead.\n",
      "  warnings.warn(\"dropout2d: Received a 3D input to dropout2d and assuming that channel-wise \"\n"
     ]
    },
    {
     "name": "stdout",
     "output_type": "stream",
     "text": [
      "('InSync: (0.96, '\n",
      " \"{'/home/hdd/data/greatesthits/evaluation/23-12-15T11-35-49/generated_samples_24-01-04T14-12-53_debug/2015-03-30-01-48-12_denoised_186.mp4.mp4': \"\n",
      " \"{'class': 1, 'prob': 0.83}, \"\n",
      " \"'/home/hdd/data/greatesthits/evaluation/23-12-15T11-35-49/generated_samples_24-01-04T14-12-53_debug/2015-09-12-04-15-35-433_denoised_400.mp4.mp4': \"\n",
      " \"{'class': 1, 'prob': 0.854}, \"\n",
      " \"'/home/hdd/data/greatesthits/evaluation/23-12-15T11-35-49/generated_samples_24-01-04T14-12-53_debug/2015-09-24-15-43-24-742_denoised_544.mp4.mp4': \"\n",
      " \"{'class': 1, 'prob': 0.853}, \"\n",
      " \"'/home/hdd/data/greatesthits/evaluation/23-12-15T11-35-49/generated_samples_24-01-04T14-12-53_debug/2015-09-23-16-13-51-1_denoised_741.mp4.mp4': \"\n",
      " \"{'class': 1, 'prob': 0.779}, \"\n",
      " \"'/home/hdd/data/greatesthits/evaluation/23-12-15T11-35-49/generated_samples_24-01-04T14-12-53_debug/2015-03-25-00-58-22_denoised_572.mp4.mp4': \"\n",
      " \"{'class': 1, 'prob': 0.834}, \"\n",
      " \"'/home/hdd/data/greatesthits/evaluation/23-12-15T11-35-49/generated_samples_24-01-04T14-12-53_debug/2015-09-23-15-20-31-666_denoised_44.mp4.mp4': \"\n",
      " \"{'class': 1, 'prob': 0.849}, \"\n",
      " \"'/home/hdd/data/greatesthits/evaluation/23-12-15T11-35-49/generated_samples_24-01-04T14-12-53_debug/2015-09-23-16-13-51-173_denoised_283.mp4.mp4': \"\n",
      " \"{'class': 1, 'prob': 0.85}, \"\n",
      " \"'/home/hdd/data/greatesthits/evaluation/23-12-15T11-35-49/generated_samples_24-01-04T14-12-53_debug/2015-09-28-14-40-11-198_denoised_332.mp4.mp4': \"\n",
      " \"{'class': 1, 'prob': 0.847}, \"\n",
      " \"'/home/hdd/data/greatesthits/evaluation/23-12-15T11-35-49/generated_samples_24-01-04T14-12-53_debug/2015-10-03-14-31-56-162_denoised_32.mp4.mp4': \"\n",
      " \"{'class': 1, 'prob': 0.852}, \"\n",
      " \"'/home/hdd/data/greatesthits/evaluation/23-12-15T11-35-49/generated_samples_24-01-04T14-12-53_debug/2015-10-02-11-46-40-608_denoised_84.mp4.mp4': \"\n",
      " \"{'class': 1, 'prob': 0.85}, \"\n",
      " \"'/home/hdd/data/greatesthits/evaluation/23-12-15T11-35-49/generated_samples_24-01-04T14-12-53_debug/2015-09-23-15-41-10-1375_denoised_841.mp4.mp4': \"\n",
      " \"{'class': 1, 'prob': 0.85}, \"\n",
      " \"'/home/hdd/data/greatesthits/evaluation/23-12-15T11-35-49/generated_samples_24-01-04T14-12-53_debug/2015-03-12-20-21-45_denoised_527.mp4.mp4': \"\n",
      " \"{'class': 1, 'prob': 0.852}, \"\n",
      " \"'/home/hdd/data/greatesthits/evaluation/23-12-15T11-35-49/generated_samples_24-01-04T14-12-53_debug/2015-02-21-17-53-09_denoised_453.mp4.mp4': \"\n",
      " \"{'class': 1, 'prob': 0.855}, \"\n",
      " \"'/home/hdd/data/greatesthits/evaluation/23-12-15T11-35-49/generated_samples_24-01-04T14-12-53_debug/2015-09-23-16-13-51-1_denoised_28.mp4.mp4': \"\n",
      " \"{'class': 1, 'prob': 0.852}, \"\n",
      " \"'/home/hdd/data/greatesthits/evaluation/23-12-15T11-35-49/generated_samples_24-01-04T14-12-53_debug/2015-10-04-21-04-43-132_denoised_79.mp4.mp4': \"\n",
      " \"{'class': 1, 'prob': 0.854}, \"\n",
      " \"'/home/hdd/data/greatesthits/evaluation/23-12-15T11-35-49/generated_samples_24-01-04T14-12-53_debug/2015-09-12-04-15-35-1070_denoised_92.mp4.mp4': \"\n",
      " \"{'class': 1, 'prob': 0.851}, \"\n",
      " \"'/home/hdd/data/greatesthits/evaluation/23-12-15T11-35-49/generated_samples_24-01-04T14-12-53_debug/2015-03-31-00-18-22_denoised_171.mp4.mp4': \"\n",
      " \"{'class': 1, 'prob': 0.853}, \"\n",
      " \"'/home/hdd/data/greatesthits/evaluation/23-12-15T11-35-49/generated_samples_24-01-04T14-12-53_debug/2015-09-29-16-10-13-1_denoised_269.mp4.mp4': \"\n",
      " \"{'class': 0, 'prob': 0.904}, \"\n",
      " \"'/home/hdd/data/greatesthits/evaluation/23-12-15T11-35-49/generated_samples_24-01-04T14-12-53_debug/2015-03-20-01-23-48_denoised_853.mp4.mp4': \"\n",
      " \"{'class': 1, 'prob': 0.855}, \"\n",
      " \"'/home/hdd/data/greatesthits/evaluation/23-12-15T11-35-49/generated_samples_24-01-04T14-12-53_debug/2015-09-29-14-45-11-865_denoised_33.mp4.mp4': \"\n",
      " \"{'class': 1, 'prob': 0.851}, \"\n",
      " \"'/home/hdd/data/greatesthits/evaluation/23-12-15T11-35-49/generated_samples_24-01-04T14-12-53_debug/2015-02-22-14-32-02_denoised_810.mp4.mp4': \"\n",
      " \"{'class': 1, 'prob': 0.845}, \"\n",
      " \"'/home/hdd/data/greatesthits/evaluation/23-12-15T11-35-49/generated_samples_24-01-04T14-12-53_debug/2015-09-29-15-17-35-910_denoised_99.mp4.mp4': \"\n",
      " \"{'class': 1, 'prob': 0.851}, \"\n",
      " \"'/home/hdd/data/greatesthits/evaluation/23-12-15T11-35-49/generated_samples_24-01-04T14-12-53_debug/2015-09-24-16-38-42-191_denoised_98.mp4.mp4': \"\n",
      " \"{'class': 1, 'prob': 0.851}, \"\n",
      " \"'/home/hdd/data/greatesthits/evaluation/23-12-15T11-35-49/generated_samples_24-01-04T14-12-53_debug/2015-03-28-18-24-12_denoised_203.mp4.mp4': \"\n",
      " \"{'class': 1, 'prob': 0.848}, \"\n",
      " \"'/home/hdd/data/greatesthits/evaluation/23-12-15T11-35-49/generated_samples_24-01-04T14-12-53_debug/2015-03-20-02-27-12_denoised_1023.mp4.mp4': \"\n",
      " \"{'class': 1, 'prob': 0.854}, \"\n",
      " \"'/home/hdd/data/greatesthits/evaluation/23-12-15T11-35-49/generated_samples_24-01-04T14-12-53_debug/2015-10-04-21-04-43-174_denoised_574.mp4.mp4': \"\n",
      " \"{'class': 1, 'prob': 0.852}, \"\n",
      " \"'/home/hdd/data/greatesthits/evaluation/23-12-15T11-35-49/generated_samples_24-01-04T14-12-53_debug/2015-10-02-11-46-40-222_denoised_164.mp4.mp4': \"\n",
      " \"{'class': 1, 'prob': 0.852}, \"\n",
      " \"'/home/hdd/data/greatesthits/evaluation/23-12-15T11-35-49/generated_samples_24-01-04T14-12-53_debug/2015-03-31-02-11-31_denoised_284.mp4.mp4': \"\n",
      " \"{'class': 1, 'prob': 0.856}, \"\n",
      " \"'/home/hdd/data/greatesthits/evaluation/23-12-15T11-35-49/generated_samples_24-01-04T14-12-53_debug/2015-09-24-14-41-06-753_denoised_154.mp4.mp4': \"\n",
      " \"{'class': 1, 'prob': 0.85}, \"\n",
      " \"'/home/hdd/data/greatesthits/evaluation/23-12-15T11-35-49/generated_samples_24-01-04T14-12-53_debug/2015-09-12-04-15-35-1_denoised_1303.mp4.mp4': \"\n",
      " \"{'class': 1, 'prob': 0.855}, \"\n",
      " \"'/home/hdd/data/greatesthits/evaluation/23-12-15T11-35-49/generated_samples_24-01-04T14-12-53_debug/2015-10-03-13-39-43-1012_denoised_219.mp4.mp4': \"\n",
      " \"{'class': 1, 'prob': 0.854}, \"\n",
      " \"'/home/hdd/data/greatesthits/evaluation/23-12-15T11-35-49/generated_samples_24-01-04T14-12-53_debug/2015-09-12-04-15-35-174_denoised_1591.mp4.mp4': \"\n",
      " \"{'class': 1, 'prob': 0.853}, \"\n",
      " \"'/home/hdd/data/greatesthits/evaluation/23-12-15T11-35-49/generated_samples_24-01-04T14-12-53_debug/2015-03-28-18-06-57_denoised_1231.mp4.mp4': \"\n",
      " \"{'class': 1, 'prob': 0.856}, \"\n",
      " \"'/home/hdd/data/greatesthits/evaluation/23-12-15T11-35-49/generated_samples_24-01-04T14-12-53_debug/2015-09-30-20-27-11-36_denoised_448.mp4.mp4': \"\n",
      " \"{'class': 1, 'prob': 0.848}, \"\n",
      " \"'/home/hdd/data/greatesthits/evaluation/23-12-15T11-35-49/generated_samples_24-01-04T14-12-53_debug/2015-09-12-04-15-35-1070_denoised_107.mp4.mp4': \"\n",
      " \"{'class': 1, 'prob': 0.854}, \"\n",
      " \"'/home/hdd/data/greatesthits/evaluation/23-12-15T11-35-49/generated_samples_24-01-04T14-12-53_debug/2015-10-06-18-38-22-191_denoised_383.mp4.mp4': \"\n",
      " \"{'class': 1, 'prob': 0.852}, \"\n",
      " \"'/home/hdd/data/greatesthits/evaluation/23-12-15T11-35-49/generated_samples_24-01-04T14-12-53_debug/2015-03-30-02-19-26_denoised_44.mp4.mp4': \"\n",
      " \"{'class': 1, 'prob': 0.852}, \"\n",
      " \"'/home/hdd/data/greatesthits/evaluation/23-12-15T11-35-49/generated_samples_24-01-04T14-12-53_debug/2015-09-18-04-24-32-123_denoised_109.mp4.mp4': \"\n",
      " \"{'class': 1, 'prob': 0.853}, \"\n",
      " \"'/home/hdd/data/greatesthits/evaluation/23-12-15T11-35-49/generated_samples_24-01-04T14-12-53_debug/2015-03-12-20-11-15_denoised_369.mp4.mp4': \"\n",
      " \"{'class': 1, 'prob': 0.851}, \"\n",
      " \"'/home/hdd/data/greatesthits/evaluation/23-12-15T11-35-49/generated_samples_24-01-04T14-12-53_debug/2015-09-18-04-24-32-3_denoised_1375.mp4.mp4': \"\n",
      " \"{'class': 1, 'prob': 0.854}, \"\n",
      " \"'/home/hdd/data/greatesthits/evaluation/23-12-15T11-35-49/generated_samples_24-01-04T14-12-53_debug/2015-03-28-18-21-03_denoised_70.mp4.mp4': \"\n",
      " \"{'class': 1, 'prob': 0.85}, \"\n",
      " \"'/home/hdd/data/greatesthits/evaluation/23-12-15T11-35-49/generated_samples_24-01-04T14-12-53_debug/2015-09-28-00-28-26-315_denoised_53.mp4.mp4': \"\n",
      " \"{'class': 1, 'prob': 0.855}, \"\n",
      " \"'/home/hdd/data/greatesthits/evaluation/23-12-15T11-35-49/generated_samples_24-01-04T14-12-53_debug/2015-02-21-17-34-22_denoised_235.mp4.mp4': \"\n",
      " \"{'class': 1, 'prob': 0.849}, \"\n",
      " \"'/home/hdd/data/greatesthits/evaluation/23-12-15T11-35-49/generated_samples_24-01-04T14-12-53_debug/2015-03-31-02-11-31_denoised_191.mp4.mp4': \"\n",
      " \"{'class': 0, 'prob': 1.0}, \"\n",
      " \"'/home/hdd/data/greatesthits/evaluation/23-12-15T11-35-49/generated_samples_24-01-04T14-12-53_debug/2015-03-20-01-33-24_denoised_334.mp4.mp4': \"\n",
      " \"{'class': 1, 'prob': 0.832}, \"\n",
      " \"'/home/hdd/data/greatesthits/evaluation/23-12-15T11-35-49/generated_samples_24-01-04T14-12-53_debug/2015-09-24-16-38-42-191_denoised_52.mp4.mp4': \"\n",
      " \"{'class': 1, 'prob': 0.852}, \"\n",
      " \"'/home/hdd/data/greatesthits/evaluation/23-12-15T11-35-49/generated_samples_24-01-04T14-12-53_debug/2015-09-29-13-32-18-129_denoised_596.mp4.mp4': \"\n",
      " \"{'class': 1, 'prob': 0.851}, \"\n",
      " \"'/home/hdd/data/greatesthits/evaluation/23-12-15T11-35-49/generated_samples_24-01-04T14-12-53_debug/2015-09-24-14-41-06-753_denoised_178.mp4.mp4': \"\n",
      " \"{'class': 1, 'prob': 0.855}, \"\n",
      " \"'/home/hdd/data/greatesthits/evaluation/23-12-15T11-35-49/generated_samples_24-01-04T14-12-53_debug/2015-09-18-04-24-32-123_denoised_1330.mp4.mp4': \"\n",
      " \"{'class': 1, 'prob': 0.854}, \"\n",
      " \"'/home/hdd/data/greatesthits/evaluation/23-12-15T11-35-49/generated_samples_24-01-04T14-12-53_debug/2015-03-28-18-24-12_denoised_419.mp4.mp4': \"\n",
      " \"{'class': 1, 'prob': 0.849}})\")\n"
     ]
    }
   ],
   "source": [
    "metrics = EvaluationMetrics(evaluation_cfg)\n",
    "# metrics.run_all()\n",
    "# print(f\"FAD: {metrics.run_fad()}\")\n",
    "# print(f\"KLD: {metrics.run_kld()}\")\n",
    "pprint(f\"InSync: {metrics.run_insync()}\")"
   ]
  },
  {
   "cell_type": "code",
   "execution_count": 4,
   "metadata": {},
   "outputs": [
    {
     "name": "stdout",
     "output_type": "stream",
     "text": [
      "Results exported to /home/hdd/data/greatesthits/evaluation/23-12-15T11-35-49/generated_samples_24-01-04T14-12-53_debug/results_24-02-03T09-06-26.yaml\n"
     ]
    }
   ],
   "source": [
    "metrics.export_results()"
   ]
  }
 ],
 "metadata": {
  "kernelspec": {
   "display_name": "eval_gen_audio_models",
   "language": "python",
   "name": "python3"
  },
  "language_info": {
   "codemirror_mode": {
    "name": "ipython",
    "version": 3
   },
   "file_extension": ".py",
   "mimetype": "text/x-python",
   "name": "python",
   "nbconvert_exporter": "python",
   "pygments_lexer": "ipython3",
   "version": "3.8.18"
  }
 },
 "nbformat": 4,
 "nbformat_minor": 2
}
