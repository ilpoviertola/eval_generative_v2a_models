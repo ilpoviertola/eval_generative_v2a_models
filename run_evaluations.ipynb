{
 "cells": [
  {
   "cell_type": "markdown",
   "metadata": {},
   "source": [
    "# Evaluate generative multimodal audio models\n",
    "\n",
    "Use this notebook to evaluate the generative multimodal audio models. This notebook uses following metrics:\n",
    "\n",
    "- Frechet Audio Distance (FAD)\n",
    "- Kulback-Leibler Divergence (KLD)\n",
    "- ImageBind score (IB)\n",
    "- Synchronisation Error (SE)\n",
    "\n",
    "**Note** Sometimes GPU resources are not freed until the Jupyter Kernel is restarted. If you encounter CUDA out of memory error, please restart the kernel and run the notebook again.\n",
    "\n",
    "## Setup\n",
    "User must have\n",
    "\n",
    "1. Generated audio samples\n",
    "1. GT audios for given videos that were used when generating the audio\n",
    "\n",
    "## Helpers and Imports"
   ]
  },
  {
   "cell_type": "code",
   "execution_count": 18,
   "metadata": {},
   "outputs": [],
   "source": [
    "from pathlib import Path\n",
    "from pprint import pprint\n",
    "\n",
    "from eval_utils.utils import dataclass_from_dict\n",
    "from configs.evaluation_cfg import EvaluationCfg, PipelineCfg\n",
    "from metrics.evaluation_metrics import EvaluationMetrics\n",
    "from metrics.evaluation_metrics_combiner import EvaluationMetricsCombiner\n",
    "\n",
    "%reload_ext autoreload\n",
    "%autoreload 2"
   ]
  },
  {
   "cell_type": "code",
   "execution_count": 14,
   "metadata": {},
   "outputs": [],
   "source": [
    "def get_evaluation_config(eval_cfg_dict: dict):\n",
    "    evaluation_cfg = dataclass_from_dict(EvaluationCfg, eval_cfg_dict)\n",
    "    assert type(evaluation_cfg) == EvaluationCfg\n",
    "    assert type(evaluation_cfg.pipeline) == PipelineCfg\n",
    "    return evaluation_cfg\n",
    "\n",
    "def get_calculated_evaluation_metrics(evaluation_cfg: EvaluationCfg, force_recalculate: bool = False):\n",
    "    print(\"Evaluating\", evaluation_cfg.sample_directory.as_posix())\n",
    "    evaluation_metrics = EvaluationMetrics(evaluation_cfg)\n",
    "    assert type(evaluation_metrics) == EvaluationMetrics\n",
    "    evaluation_metrics.run_all(force_recalculate)\n",
    "    evaluation_metrics.export_results()\n",
    "    print(\"Evaluation done\\n\")\n",
    "    return evaluation_metrics"
   ]
  },
  {
   "cell_type": "markdown",
   "metadata": {},
   "source": [
    "## Define configurations\n",
    "\n",
    "<p align=\"center\">❗️**NOTE**❗️</p>\n",
    "<p align=\"center\">Only modify the following cell with your arguments and paths. <span style=\"color:red\">Do not touch any other cell if not stated otherwise.</span></p>\n",
    "<p align=\"center\">❗️**NOTE**❗️</p>\n",
    "\n",
    "1. Define the paths to the videos with model-generated audio (*sample_dirs*)\n",
    "2. Define the path to ground truth videos (*gt_dir*)\n",
    "3. Define the evaluation pipeline (*pipeline_cfg_dict*)\n",
    "    - Define the metrics to be used (fad, kld, insync)\n",
    "    - Define the parameters for individual metrics (see ./configs/evaluation_cfg.py for more details)\n",
    "    - Example:\n",
    "        - Only insync metric with default params: {\"insync\": {}}\n",
    "        - All the metrics with default params: {\"fad\": {}, \"kld\": {}, \"insync\": {}}\n",
    "        - Only FAD calculated using PCA: {\"fad\": {\"use_pca\": True}}\n",
    "4. Define verbosity (*is_verbose*)"
   ]
  },
  {
   "cell_type": "code",
   "execution_count": 3,
   "metadata": {},
   "outputs": [],
   "source": [
    "sample_dirs = [\n",
    "    Path(\n",
    "        \"/home/hdd/ilpo/evaluation_data/synchronisonix/24-02-27T16-46-55/generated_samples_24-02-28T14-47-57_jepa\"\n",
    "    ),\n",
    "    Path(\n",
    "        \"/home/hdd/ilpo/evaluation_data/synchronisonix/24-02-27T16-46-55/generated_samples_24-02-28T14-47-57_jepa_1\"\n",
    "    ),\n",
    "    Path(\n",
    "        \"/home/hdd/ilpo/evaluation_data/synchronisonix/24-02-27T16-46-55/generated_samples_24-02-28T14-47-57_jepa_2\"\n",
    "    ),\n",
    "]\n",
    "gt_dir = Path(\"\")\n",
    "pipeline_cfg_dict = {\"insync\": {}}\n",
    "is_verbose = True"
   ]
  },
  {
   "cell_type": "markdown",
   "metadata": {},
   "source": [
    "## Initialise configurations"
   ]
  },
  {
   "cell_type": "code",
   "execution_count": 15,
   "metadata": {},
   "outputs": [
    {
     "name": "stdout",
     "output_type": "stream",
     "text": [
      "Evaluation pipeline:\n",
      "sample_directory: /home/hdd/ilpo/evaluation_data/synchronisonix/24-02-27T16-46-55/generated_samples_24-02-28T14-47-57_jepa\n",
      "gt_directory: .\n",
      "result_directory: /home/hdd/ilpo/evaluation_data/synchronisonix/24-02-27T16-46-55/generated_samples_24-02-28T14-47-57_jepa\n",
      "PipelineCfg(fad=None, kld=None, insync=InSyncCfg(exp_name='24-01-04T16-39-21', device='cuda:0', vfps=25, afps=16000, input_size=256, ckpt_parent_path='./checkpoints/sync_models'))\n",
      "verbose: True\n",
      "\n",
      "Evaluation pipeline:\n",
      "sample_directory: /home/hdd/ilpo/evaluation_data/synchronisonix/24-02-27T16-46-55/generated_samples_24-02-28T14-47-57_jepa_1\n",
      "gt_directory: .\n",
      "result_directory: /home/hdd/ilpo/evaluation_data/synchronisonix/24-02-27T16-46-55/generated_samples_24-02-28T14-47-57_jepa_1\n",
      "PipelineCfg(fad=None, kld=None, insync=InSyncCfg(exp_name='24-01-04T16-39-21', device='cuda:0', vfps=25, afps=16000, input_size=256, ckpt_parent_path='./checkpoints/sync_models'))\n",
      "verbose: True\n",
      "\n",
      "Evaluation pipeline:\n",
      "sample_directory: /home/hdd/ilpo/evaluation_data/synchronisonix/24-02-27T16-46-55/generated_samples_24-02-28T14-47-57_jepa_2\n",
      "gt_directory: .\n",
      "result_directory: /home/hdd/ilpo/evaluation_data/synchronisonix/24-02-27T16-46-55/generated_samples_24-02-28T14-47-57_jepa_2\n",
      "PipelineCfg(fad=None, kld=None, insync=InSyncCfg(exp_name='24-01-04T16-39-21', device='cuda:0', vfps=25, afps=16000, input_size=256, ckpt_parent_path='./checkpoints/sync_models'))\n",
      "verbose: True\n",
      "\n"
     ]
    }
   ],
   "source": [
    "assert pipeline_cfg_dict is not None, \"Pipeline is not defined or it is empty.\"\n",
    "evaluation_cfgs = [\n",
    "    get_evaluation_config(\n",
    "        {\n",
    "            \"sample_directory\": sample_dir,\n",
    "            \"gt_directory\": gt_dir,\n",
    "            \"pipeline\": pipeline_cfg_dict,\n",
    "            \"verbose\": is_verbose,\n",
    "        }\n",
    "    )\n",
    "    for sample_dir in sample_dirs\n",
    "]"
   ]
  },
  {
   "cell_type": "markdown",
   "metadata": {},
   "source": [
    "# Metrics\n",
    "Metrics class are initialised with the *EvaluationCfg* -class which defines the evaluation pipeline. The class is used to calculate the metrics for a single sample directory (EvaluationCfg entry). *EvaluationMetricsCombiner* -class is used to combine the metrics for all the sample directories for plotting."
   ]
  },
  {
   "cell_type": "code",
   "execution_count": 19,
   "metadata": {},
   "outputs": [
    {
     "name": "stdout",
     "output_type": "stream",
     "text": [
      "Evaluating /home/hdd/ilpo/evaluation_data/synchronisonix/24-02-27T16-46-55/generated_samples_24-02-28T14-47-57_jepa\n"
     ]
    },
    {
     "name": "stderr",
     "output_type": "stream",
     "text": [
      "Reencoding directory generated_samples_24-02-28T14-47-57_jepa to 25 fps, 16000 afps, 256 input size: 100%|██████████| 40/40 [00:11<00:00,  3.35it/s]\n"
     ]
    },
    {
     "name": "stdout",
     "output_type": "stream",
     "text": [
      "Reencoded samples\n",
      "Results exported to /home/hdd/ilpo/evaluation_data/synchronisonix/24-02-27T16-46-55/generated_samples_24-02-28T14-47-57_jepa/results_24-03-12T11-19-55.yaml\n",
      "Evaluation done\n",
      "\n",
      "Evaluating /home/hdd/ilpo/evaluation_data/synchronisonix/24-02-27T16-46-55/generated_samples_24-02-28T14-47-57_jepa_1\n"
     ]
    },
    {
     "name": "stderr",
     "output_type": "stream",
     "text": [
      "Reencoding directory generated_samples_24-02-28T14-47-57_jepa_1 to 25 fps, 16000 afps, 256 input size: 100%|██████████| 40/40 [00:12<00:00,  3.33it/s]\n"
     ]
    },
    {
     "name": "stdout",
     "output_type": "stream",
     "text": [
      "Reencoded samples\n",
      "Results exported to /home/hdd/ilpo/evaluation_data/synchronisonix/24-02-27T16-46-55/generated_samples_24-02-28T14-47-57_jepa_1/results_24-03-12T11-20-17.yaml\n",
      "Evaluation done\n",
      "\n",
      "Evaluating /home/hdd/ilpo/evaluation_data/synchronisonix/24-02-27T16-46-55/generated_samples_24-02-28T14-47-57_jepa_2\n"
     ]
    },
    {
     "name": "stderr",
     "output_type": "stream",
     "text": [
      "Reencoding directory generated_samples_24-02-28T14-47-57_jepa_2 to 25 fps, 16000 afps, 256 input size: 100%|██████████| 40/40 [00:11<00:00,  3.35it/s]\n"
     ]
    },
    {
     "name": "stdout",
     "output_type": "stream",
     "text": [
      "Reencoded samples\n",
      "Results exported to /home/hdd/ilpo/evaluation_data/synchronisonix/24-02-27T16-46-55/generated_samples_24-02-28T14-47-57_jepa_2/results_24-03-12T11-20-39.yaml\n",
      "Evaluation done\n",
      "\n"
     ]
    }
   ],
   "source": [
    "metrics = [\n",
    "    get_calculated_evaluation_metrics(evaluation_cfg)\n",
    "    for evaluation_cfg in evaluation_cfgs\n",
    "]\n",
    "combined_results = EvaluationMetricsCombiner(metrics)\n",
    "combined_results.combine()"
   ]
  },
  {
   "cell_type": "markdown",
   "metadata": {},
   "source": [
    "## Plotting\n",
    "Plotting the combined results. Here you can define the plotting directory."
   ]
  },
  {
   "cell_type": "code",
   "execution_count": 20,
   "metadata": {},
   "outputs": [
    {
     "ename": "AttributeError",
     "evalue": "'dict' object has no attribute 'plot'",
     "output_type": "error",
     "traceback": [
      "\u001b[0;31m---------------------------------------------------------------------------\u001b[0m",
      "\u001b[0;31mAttributeError\u001b[0m                            Traceback (most recent call last)",
      "Cell \u001b[0;32mIn[20], line 4\u001b[0m\n\u001b[1;32m      1\u001b[0m \u001b[38;5;66;03m# Define the output directory for the plots (if desired)\u001b[39;00m\n\u001b[1;32m      2\u001b[0m \u001b[38;5;66;03m# if not defined, the plots will not be saved but returned as matplotlib figures\u001b[39;00m\n\u001b[1;32m      3\u001b[0m plot_dir \u001b[38;5;241m=\u001b[39m \u001b[38;5;28;01mNone\u001b[39;00m\n\u001b[0;32m----> 4\u001b[0m \u001b[43mcombined_results\u001b[49m\u001b[38;5;241;43m.\u001b[39;49m\u001b[43mplot\u001b[49m(plot_dir)\n",
      "\u001b[0;31mAttributeError\u001b[0m: 'dict' object has no attribute 'plot'"
     ]
    }
   ],
   "source": [
    "# Define the output directory for the plots (if desired)\n",
    "# if not defined, the plots will not be saved but returned as matplotlib figures\n",
    "plot_dir = None\n",
    "combined_results.plot(plot_dir)"
   ]
  }
 ],
 "metadata": {
  "kernelspec": {
   "display_name": "eval_gen_audio_models",
   "language": "python",
   "name": "python3"
  },
  "language_info": {
   "codemirror_mode": {
    "name": "ipython",
    "version": 3
   },
   "file_extension": ".py",
   "mimetype": "text/x-python",
   "name": "python",
   "nbconvert_exporter": "python",
   "pygments_lexer": "ipython3",
   "version": "3.8.18"
  }
 },
 "nbformat": 4,
 "nbformat_minor": 2
}
