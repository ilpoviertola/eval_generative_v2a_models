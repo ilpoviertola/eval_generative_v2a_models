{
 "cells": [
  {
   "cell_type": "markdown",
   "metadata": {},
   "source": [
    "# Evaluate generative multimodal audio models\n",
    "\n",
    "Use this notebook to evaluate the generative multimodal audio models. This notebook uses following metrics:\n",
    "\n",
    "- Frechet Audio Distance (FAD)\n",
    "- Kulback-Leibler Divergence (KLD)\n",
    "- ImageBind score (IB)\n",
    "- Synchronisation Error (SE)\n",
    "\n",
    "❗️**Note**❗️ Sometimes GPU resources are not freed until the Jupyter Kernel is restarted. If you encounter CUDA out of memory error, please restart the kernel and run the notebook again.\n",
    "\n",
    "## Setup\n",
    "User must have\n",
    "\n",
    "1. Videos with generated audio\n",
    "2. Ground truth videos\n",
    "3. Initialised the environment according to [README.md](README.md)\n",
    "\n",
    "## Helpers and Imports"
   ]
  },
  {
   "cell_type": "code",
   "execution_count": 12,
   "metadata": {},
   "outputs": [],
   "source": [
    "from pathlib import Path\n",
    "from pprint import pprint\n",
    "\n",
    "from eval_utils.utils import dataclass_from_dict\n",
    "from configs.evaluation_cfg import EvaluationCfg, PipelineCfg\n",
    "from metrics.evaluation_metrics import EvaluationMetrics\n",
    "from metrics.evaluation_metrics_combiner import EvaluationMetricsCombiner\n",
    "\n",
    "%reload_ext autoreload\n",
    "%autoreload 2"
   ]
  },
  {
   "cell_type": "code",
   "execution_count": 3,
   "metadata": {},
   "outputs": [],
   "source": [
    "def get_evaluation_config(eval_cfg_dict: dict):\n",
    "    evaluation_cfg = dataclass_from_dict(EvaluationCfg, eval_cfg_dict)\n",
    "    assert type(evaluation_cfg) == EvaluationCfg\n",
    "    assert type(evaluation_cfg.pipeline) == PipelineCfg\n",
    "    return evaluation_cfg\n",
    "\n",
    "def get_calculated_evaluation_metrics(evaluation_cfg: EvaluationCfg, force_recalculate: bool = False):\n",
    "    print(\"Evaluating\", evaluation_cfg.sample_directory.as_posix())\n",
    "    evaluation_metrics = EvaluationMetrics(evaluation_cfg)\n",
    "    assert type(evaluation_metrics) == EvaluationMetrics\n",
    "    evaluation_metrics.run_all(force_recalculate)\n",
    "    evaluation_metrics.export_results()\n",
    "    print(\"Evaluation done\\n\")\n",
    "    return evaluation_metrics"
   ]
  },
  {
   "cell_type": "markdown",
   "metadata": {},
   "source": [
    "## Define configurations\n",
    "\n",
    "<p align=\"center\">❗️**NOTE**❗️</p>\n",
    "<p align=\"center\">Only modify the following cell with your arguments and paths. <span style=\"color:red\">Do not touch any other cell if not stated otherwise.</span></p>\n",
    "<p align=\"center\">❗️**NOTE**❗️</p>\n",
    "\n",
    "1. Define the paths to the videos with model-generated audio (*sample_dirs*)\n",
    "2. Define the path to ground truth videos (*gt_dir*)\n",
    "3. Define the evaluation pipeline (*pipeline_cfg_dict*)\n",
    "    - Define the metrics to be used (fad, kld, insync)\n",
    "    - Define the parameters for individual metrics (see ./configs/evaluation_cfg.py for more details)\n",
    "    - Example:\n",
    "        - Only insync metric with default params: {\"insync\": {}}\n",
    "        - All the metrics with default params: {\"fad\": {}, \"kld\": {}, \"insync\": {}}\n",
    "        - Only FAD calculated using PCA: {\"fad\": {\"use_pca\": True}}\n",
    "4. Define verbosity (*is_verbose*)"
   ]
  },
  {
   "cell_type": "code",
   "execution_count": 4,
   "metadata": {},
   "outputs": [],
   "source": [
    "sample_dirs = [\n",
    "    Path(\n",
    "        \"/home/hdd/ilpo/evaluation_data/synchronisonix/24-02-27T16-46-55/generated_samples_24-02-28T14-47-57_jepa\"\n",
    "    ),\n",
    "    Path(\n",
    "        \"/home/hdd/ilpo/evaluation_data/synchronisonix/24-02-27T16-46-55/generated_samples_24-02-28T14-47-57_jepa_1\"\n",
    "    ),\n",
    "    Path(\n",
    "        \"/home/hdd/ilpo/evaluation_data/synchronisonix/24-02-27T16-46-55/generated_samples_24-02-28T14-47-57_jepa_2\"\n",
    "    ),\n",
    "]\n",
    "gt_dir = Path(\"\")\n",
    "pipeline_cfg_dict = {\"insync\": {}}\n",
    "is_verbose = True"
   ]
  },
  {
   "cell_type": "markdown",
   "metadata": {},
   "source": [
    "## Initialise configurations"
   ]
  },
  {
   "cell_type": "code",
   "execution_count": 5,
   "metadata": {},
   "outputs": [
    {
     "name": "stdout",
     "output_type": "stream",
     "text": [
      "Evaluation pipeline:\n",
      "sample_directory: /home/hdd/ilpo/evaluation_data/synchronisonix/24-02-27T16-46-55/generated_samples_24-02-28T14-47-57_jepa\n",
      "gt_directory: .\n",
      "result_directory: /home/hdd/ilpo/evaluation_data/synchronisonix/24-02-27T16-46-55/generated_samples_24-02-28T14-47-57_jepa\n",
      "PipelineCfg(fad=None, kld=None, insync=InSyncCfg(exp_name='24-01-04T16-39-21', device='cuda:0', vfps=25, afps=16000, input_size=256, ckpt_parent_path='./checkpoints/sync_models'))\n",
      "verbose: True\n",
      "\n",
      "Evaluation pipeline:\n",
      "sample_directory: /home/hdd/ilpo/evaluation_data/synchronisonix/24-02-27T16-46-55/generated_samples_24-02-28T14-47-57_jepa_1\n",
      "gt_directory: .\n",
      "result_directory: /home/hdd/ilpo/evaluation_data/synchronisonix/24-02-27T16-46-55/generated_samples_24-02-28T14-47-57_jepa_1\n",
      "PipelineCfg(fad=None, kld=None, insync=InSyncCfg(exp_name='24-01-04T16-39-21', device='cuda:0', vfps=25, afps=16000, input_size=256, ckpt_parent_path='./checkpoints/sync_models'))\n",
      "verbose: True\n",
      "\n",
      "Evaluation pipeline:\n",
      "sample_directory: /home/hdd/ilpo/evaluation_data/synchronisonix/24-02-27T16-46-55/generated_samples_24-02-28T14-47-57_jepa_2\n",
      "gt_directory: .\n",
      "result_directory: /home/hdd/ilpo/evaluation_data/synchronisonix/24-02-27T16-46-55/generated_samples_24-02-28T14-47-57_jepa_2\n",
      "PipelineCfg(fad=None, kld=None, insync=InSyncCfg(exp_name='24-01-04T16-39-21', device='cuda:0', vfps=25, afps=16000, input_size=256, ckpt_parent_path='./checkpoints/sync_models'))\n",
      "verbose: True\n",
      "\n"
     ]
    }
   ],
   "source": [
    "assert pipeline_cfg_dict is not None, \"Pipeline is not defined or it is empty.\"\n",
    "evaluation_cfgs = [\n",
    "    get_evaluation_config(\n",
    "        {\n",
    "            \"sample_directory\": sample_dir,\n",
    "            \"gt_directory\": gt_dir,\n",
    "            \"pipeline\": pipeline_cfg_dict,\n",
    "            \"verbose\": is_verbose,\n",
    "        }\n",
    "    )\n",
    "    for sample_dir in sample_dirs\n",
    "]"
   ]
  },
  {
   "cell_type": "markdown",
   "metadata": {},
   "source": [
    "# Metrics\n",
    "Metrics class are initialised with the *EvaluationCfg* -class which defines the evaluation pipeline. The class is used to calculate the metrics for a single sample directory (EvaluationCfg entry). *EvaluationMetricsCombiner* -class is used to combine the metrics for all the sample directories for plotting."
   ]
  },
  {
   "cell_type": "code",
   "execution_count": 6,
   "metadata": {},
   "outputs": [
    {
     "name": "stdout",
     "output_type": "stream",
     "text": [
      "Evaluating /home/hdd/ilpo/evaluation_data/synchronisonix/24-02-27T16-46-55/generated_samples_24-02-28T14-47-57_jepa\n"
     ]
    },
    {
     "name": "stderr",
     "output_type": "stream",
     "text": [
      "Reencoding directory generated_samples_24-02-28T14-47-57_jepa to 25 fps, 16000 afps, 256 input size: 100%|██████████| 40/40 [00:11<00:00,  3.39it/s]\n"
     ]
    },
    {
     "name": "stdout",
     "output_type": "stream",
     "text": [
      "Reencoded samples\n",
      "Results exported to /home/hdd/ilpo/evaluation_data/synchronisonix/24-02-27T16-46-55/generated_samples_24-02-28T14-47-57_jepa/results_24-03-12T12-01-11.yaml\n",
      "Evaluation done\n",
      "\n",
      "Evaluating /home/hdd/ilpo/evaluation_data/synchronisonix/24-02-27T16-46-55/generated_samples_24-02-28T14-47-57_jepa_1\n"
     ]
    },
    {
     "name": "stderr",
     "output_type": "stream",
     "text": [
      "Reencoding directory generated_samples_24-02-28T14-47-57_jepa_1 to 25 fps, 16000 afps, 256 input size: 100%|██████████| 40/40 [00:11<00:00,  3.40it/s]\n"
     ]
    },
    {
     "name": "stdout",
     "output_type": "stream",
     "text": [
      "Reencoded samples\n",
      "Results exported to /home/hdd/ilpo/evaluation_data/synchronisonix/24-02-27T16-46-55/generated_samples_24-02-28T14-47-57_jepa_1/results_24-03-12T12-01-34.yaml\n",
      "Evaluation done\n",
      "\n",
      "Evaluating /home/hdd/ilpo/evaluation_data/synchronisonix/24-02-27T16-46-55/generated_samples_24-02-28T14-47-57_jepa_2\n"
     ]
    },
    {
     "name": "stderr",
     "output_type": "stream",
     "text": [
      "Reencoding directory generated_samples_24-02-28T14-47-57_jepa_2 to 25 fps, 16000 afps, 256 input size: 100%|██████████| 40/40 [00:11<00:00,  3.37it/s]\n"
     ]
    },
    {
     "name": "stdout",
     "output_type": "stream",
     "text": [
      "Reencoded samples\n",
      "Results exported to /home/hdd/ilpo/evaluation_data/synchronisonix/24-02-27T16-46-55/generated_samples_24-02-28T14-47-57_jepa_2/results_24-03-12T12-01-56.yaml\n",
      "Evaluation done\n",
      "\n"
     ]
    }
   ],
   "source": [
    "metrics = [\n",
    "    get_calculated_evaluation_metrics(evaluation_cfg)\n",
    "    for evaluation_cfg in evaluation_cfgs\n",
    "]\n"
   ]
  },
  {
   "cell_type": "code",
   "execution_count": 9,
   "metadata": {},
   "outputs": [
    {
     "data": {
      "text/plain": [
       "{'insync': (['generated_samples_24-02-28T14-47-57_jepa',\n",
       "   'generated_samples_24-02-28T14-47-57_jepa_1',\n",
       "   'generated_samples_24-02-28T14-47-57_jepa_2'],\n",
       "  [0.05, 0.05, 0.05]),\n",
       " 'insync_per_video': (['generated_samples_24-02-28T14-47-57_jepa/2015-09-23-16-13-51-173_denoised_298.mp4.mp4',\n",
       "   'generated_samples_24-02-28T14-47-57_jepa/2015-09-24-15-43-24-742_denoised_548.mp4.mp4',\n",
       "   'generated_samples_24-02-28T14-47-57_jepa/2015-02-21-17-34-22_denoised_228.mp4.mp4',\n",
       "   'generated_samples_24-02-28T14-47-57_jepa/2015-03-20-01-33-24_denoised_341.mp4.mp4',\n",
       "   'generated_samples_24-02-28T14-47-57_jepa/2015-03-30-01-48-12_denoised_169.mp4.mp4',\n",
       "   'generated_samples_24-02-28T14-47-57_jepa/2015-09-30-20-27-11-36_denoised_449.mp4.mp4',\n",
       "   'generated_samples_24-02-28T14-47-57_jepa/2015-09-24-14-41-06-753_denoised_146.mp4.mp4',\n",
       "   'generated_samples_24-02-28T14-47-57_jepa/2015-09-18-04-24-32-123_denoised_109.mp4.mp4',\n",
       "   'generated_samples_24-02-28T14-47-57_jepa/2015-03-31-02-11-31_denoised_187.mp4.mp4',\n",
       "   'generated_samples_24-02-28T14-47-57_jepa/2015-09-29-15-17-35-910_denoised_85.mp4.mp4',\n",
       "   'generated_samples_24-02-28T14-47-57_jepa/2015-03-28-18-21-03_denoised_91.mp4.mp4',\n",
       "   'generated_samples_24-02-28T14-47-57_jepa/2015-10-02-11-46-40-222_denoised_162.mp4.mp4',\n",
       "   'generated_samples_24-02-28T14-47-57_jepa/2015-02-21-17-53-09_denoised_445.mp4.mp4',\n",
       "   'generated_samples_24-02-28T14-47-57_jepa/2015-03-28-18-24-12_denoised_233.mp4.mp4',\n",
       "   'generated_samples_24-02-28T14-47-57_jepa/2015-09-29-14-45-11-865_denoised_66.mp4.mp4',\n",
       "   'generated_samples_24-02-28T14-47-57_jepa/2015-09-23-15-20-31-666_denoised_67.mp4.mp4',\n",
       "   'generated_samples_24-02-28T14-47-57_jepa/2015-03-30-02-19-26_denoised_75.mp4.mp4',\n",
       "   'generated_samples_24-02-28T14-47-57_jepa/2015-09-12-04-15-35-1_denoised_1313.mp4.mp4',\n",
       "   'generated_samples_24-02-28T14-47-57_jepa/2015-02-22-14-32-02_denoised_822.mp4.mp4',\n",
       "   'generated_samples_24-02-28T14-47-57_jepa/2015-09-29-13-32-18-129_denoised_573.mp4.mp4',\n",
       "   'generated_samples_24-02-28T14-47-57_jepa/2015-03-12-20-11-15_denoised_375.mp4.mp4',\n",
       "   'generated_samples_24-02-28T14-47-57_jepa/2015-03-31-00-18-22_denoised_168.mp4.mp4',\n",
       "   'generated_samples_24-02-28T14-47-57_jepa/2015-10-02-11-46-40-608_denoised_85.mp4.mp4',\n",
       "   'generated_samples_24-02-28T14-47-57_jepa/2015-03-12-20-21-45_denoised_521.mp4.mp4',\n",
       "   'generated_samples_24-02-28T14-47-57_jepa/2015-03-28-18-06-57_denoised_1241.mp4.mp4',\n",
       "   'generated_samples_24-02-28T14-47-57_jepa/2015-03-28-18-24-12_denoised_416.mp4.mp4',\n",
       "   'generated_samples_24-02-28T14-47-57_jepa/2015-09-12-04-15-35-174_denoised_1561.mp4.mp4',\n",
       "   'generated_samples_24-02-28T14-47-57_jepa/2015-09-18-04-24-32-123_denoised_1334.mp4.mp4',\n",
       "   'generated_samples_24-02-28T14-47-57_jepa/2015-09-23-16-13-51-1_denoised_75.mp4.mp4',\n",
       "   'generated_samples_24-02-28T14-47-57_jepa/2015-09-23-16-13-51-1_denoised_733.mp4.mp4',\n",
       "   'generated_samples_24-02-28T14-47-57_jepa/2015-03-31-02-11-31_denoised_261.mp4.mp4',\n",
       "   'generated_samples_24-02-28T14-47-57_jepa/2015-09-29-16-10-13-1_denoised_262.mp4.mp4',\n",
       "   'generated_samples_24-02-28T14-47-57_jepa/2015-09-12-04-15-35-433_denoised_407.mp4.mp4',\n",
       "   'generated_samples_24-02-28T14-47-57_jepa/2015-09-18-04-24-32-3_denoised_1381.mp4.mp4',\n",
       "   'generated_samples_24-02-28T14-47-57_jepa/2015-09-24-14-41-06-753_denoised_184.mp4.mp4',\n",
       "   'generated_samples_24-02-28T14-47-57_jepa/2015-03-25-00-58-22_denoised_575.mp4.mp4',\n",
       "   'generated_samples_24-02-28T14-47-57_jepa/2015-03-20-01-23-48_denoised_864.mp4.mp4',\n",
       "   'generated_samples_24-02-28T14-47-57_jepa/2015-09-28-00-28-26-315_denoised_93.mp4.mp4',\n",
       "   'generated_samples_24-02-28T14-47-57_jepa/2015-03-20-02-27-12_denoised_1024.mp4.mp4',\n",
       "   'generated_samples_24-02-28T14-47-57_jepa/2015-09-28-14-40-11-198_denoised_336.mp4.mp4',\n",
       "   'generated_samples_24-02-28T14-47-57_jepa_1/2015-09-23-16-13-51-173_denoised_298.mp4.mp4',\n",
       "   'generated_samples_24-02-28T14-47-57_jepa_1/2015-09-24-15-43-24-742_denoised_548.mp4.mp4',\n",
       "   'generated_samples_24-02-28T14-47-57_jepa_1/2015-02-21-17-34-22_denoised_228.mp4.mp4',\n",
       "   'generated_samples_24-02-28T14-47-57_jepa_1/2015-03-20-01-33-24_denoised_341.mp4.mp4',\n",
       "   'generated_samples_24-02-28T14-47-57_jepa_1/2015-03-30-01-48-12_denoised_169.mp4.mp4',\n",
       "   'generated_samples_24-02-28T14-47-57_jepa_1/2015-09-30-20-27-11-36_denoised_449.mp4.mp4',\n",
       "   'generated_samples_24-02-28T14-47-57_jepa_1/2015-09-24-14-41-06-753_denoised_146.mp4.mp4',\n",
       "   'generated_samples_24-02-28T14-47-57_jepa_1/2015-09-18-04-24-32-123_denoised_109.mp4.mp4',\n",
       "   'generated_samples_24-02-28T14-47-57_jepa_1/2015-03-31-02-11-31_denoised_187.mp4.mp4',\n",
       "   'generated_samples_24-02-28T14-47-57_jepa_1/2015-09-29-15-17-35-910_denoised_85.mp4.mp4',\n",
       "   'generated_samples_24-02-28T14-47-57_jepa_1/2015-03-28-18-21-03_denoised_91.mp4.mp4',\n",
       "   'generated_samples_24-02-28T14-47-57_jepa_1/2015-10-02-11-46-40-222_denoised_162.mp4.mp4',\n",
       "   'generated_samples_24-02-28T14-47-57_jepa_1/2015-02-21-17-53-09_denoised_445.mp4.mp4',\n",
       "   'generated_samples_24-02-28T14-47-57_jepa_1/2015-03-28-18-24-12_denoised_233.mp4.mp4',\n",
       "   'generated_samples_24-02-28T14-47-57_jepa_1/2015-09-29-14-45-11-865_denoised_66.mp4.mp4',\n",
       "   'generated_samples_24-02-28T14-47-57_jepa_1/2015-09-23-15-20-31-666_denoised_67.mp4.mp4',\n",
       "   'generated_samples_24-02-28T14-47-57_jepa_1/2015-03-30-02-19-26_denoised_75.mp4.mp4',\n",
       "   'generated_samples_24-02-28T14-47-57_jepa_1/2015-09-12-04-15-35-1_denoised_1313.mp4.mp4',\n",
       "   'generated_samples_24-02-28T14-47-57_jepa_1/2015-02-22-14-32-02_denoised_822.mp4.mp4',\n",
       "   'generated_samples_24-02-28T14-47-57_jepa_1/2015-09-29-13-32-18-129_denoised_573.mp4.mp4',\n",
       "   'generated_samples_24-02-28T14-47-57_jepa_1/2015-03-12-20-11-15_denoised_375.mp4.mp4',\n",
       "   'generated_samples_24-02-28T14-47-57_jepa_1/2015-03-31-00-18-22_denoised_168.mp4.mp4',\n",
       "   'generated_samples_24-02-28T14-47-57_jepa_1/2015-10-02-11-46-40-608_denoised_85.mp4.mp4',\n",
       "   'generated_samples_24-02-28T14-47-57_jepa_1/2015-03-12-20-21-45_denoised_521.mp4.mp4',\n",
       "   'generated_samples_24-02-28T14-47-57_jepa_1/2015-03-28-18-06-57_denoised_1241.mp4.mp4',\n",
       "   'generated_samples_24-02-28T14-47-57_jepa_1/2015-03-28-18-24-12_denoised_416.mp4.mp4',\n",
       "   'generated_samples_24-02-28T14-47-57_jepa_1/2015-09-12-04-15-35-174_denoised_1561.mp4.mp4',\n",
       "   'generated_samples_24-02-28T14-47-57_jepa_1/2015-09-18-04-24-32-123_denoised_1334.mp4.mp4',\n",
       "   'generated_samples_24-02-28T14-47-57_jepa_1/2015-09-23-16-13-51-1_denoised_75.mp4.mp4',\n",
       "   'generated_samples_24-02-28T14-47-57_jepa_1/2015-09-23-16-13-51-1_denoised_733.mp4.mp4',\n",
       "   'generated_samples_24-02-28T14-47-57_jepa_1/2015-03-31-02-11-31_denoised_261.mp4.mp4',\n",
       "   'generated_samples_24-02-28T14-47-57_jepa_1/2015-09-29-16-10-13-1_denoised_262.mp4.mp4',\n",
       "   'generated_samples_24-02-28T14-47-57_jepa_1/2015-09-12-04-15-35-433_denoised_407.mp4.mp4',\n",
       "   'generated_samples_24-02-28T14-47-57_jepa_1/2015-09-18-04-24-32-3_denoised_1381.mp4.mp4',\n",
       "   'generated_samples_24-02-28T14-47-57_jepa_1/2015-09-24-14-41-06-753_denoised_184.mp4.mp4',\n",
       "   'generated_samples_24-02-28T14-47-57_jepa_1/2015-03-25-00-58-22_denoised_575.mp4.mp4',\n",
       "   'generated_samples_24-02-28T14-47-57_jepa_1/2015-03-20-01-23-48_denoised_864.mp4.mp4',\n",
       "   'generated_samples_24-02-28T14-47-57_jepa_1/2015-09-28-00-28-26-315_denoised_93.mp4.mp4',\n",
       "   'generated_samples_24-02-28T14-47-57_jepa_1/2015-03-20-02-27-12_denoised_1024.mp4.mp4',\n",
       "   'generated_samples_24-02-28T14-47-57_jepa_1/2015-09-28-14-40-11-198_denoised_336.mp4.mp4',\n",
       "   'generated_samples_24-02-28T14-47-57_jepa_2/2015-09-23-16-13-51-173_denoised_298.mp4.mp4',\n",
       "   'generated_samples_24-02-28T14-47-57_jepa_2/2015-09-24-15-43-24-742_denoised_548.mp4.mp4',\n",
       "   'generated_samples_24-02-28T14-47-57_jepa_2/2015-02-21-17-34-22_denoised_228.mp4.mp4',\n",
       "   'generated_samples_24-02-28T14-47-57_jepa_2/2015-03-20-01-33-24_denoised_341.mp4.mp4',\n",
       "   'generated_samples_24-02-28T14-47-57_jepa_2/2015-03-30-01-48-12_denoised_169.mp4.mp4',\n",
       "   'generated_samples_24-02-28T14-47-57_jepa_2/2015-09-30-20-27-11-36_denoised_449.mp4.mp4',\n",
       "   'generated_samples_24-02-28T14-47-57_jepa_2/2015-09-24-14-41-06-753_denoised_146.mp4.mp4',\n",
       "   'generated_samples_24-02-28T14-47-57_jepa_2/2015-09-18-04-24-32-123_denoised_109.mp4.mp4',\n",
       "   'generated_samples_24-02-28T14-47-57_jepa_2/2015-03-31-02-11-31_denoised_187.mp4.mp4',\n",
       "   'generated_samples_24-02-28T14-47-57_jepa_2/2015-09-29-15-17-35-910_denoised_85.mp4.mp4',\n",
       "   'generated_samples_24-02-28T14-47-57_jepa_2/2015-03-28-18-21-03_denoised_91.mp4.mp4',\n",
       "   'generated_samples_24-02-28T14-47-57_jepa_2/2015-10-02-11-46-40-222_denoised_162.mp4.mp4',\n",
       "   'generated_samples_24-02-28T14-47-57_jepa_2/2015-02-21-17-53-09_denoised_445.mp4.mp4',\n",
       "   'generated_samples_24-02-28T14-47-57_jepa_2/2015-03-28-18-24-12_denoised_233.mp4.mp4',\n",
       "   'generated_samples_24-02-28T14-47-57_jepa_2/2015-09-29-14-45-11-865_denoised_66.mp4.mp4',\n",
       "   'generated_samples_24-02-28T14-47-57_jepa_2/2015-09-23-15-20-31-666_denoised_67.mp4.mp4',\n",
       "   'generated_samples_24-02-28T14-47-57_jepa_2/2015-03-30-02-19-26_denoised_75.mp4.mp4',\n",
       "   'generated_samples_24-02-28T14-47-57_jepa_2/2015-09-12-04-15-35-1_denoised_1313.mp4.mp4',\n",
       "   'generated_samples_24-02-28T14-47-57_jepa_2/2015-02-22-14-32-02_denoised_822.mp4.mp4',\n",
       "   'generated_samples_24-02-28T14-47-57_jepa_2/2015-09-29-13-32-18-129_denoised_573.mp4.mp4',\n",
       "   'generated_samples_24-02-28T14-47-57_jepa_2/2015-03-12-20-11-15_denoised_375.mp4.mp4',\n",
       "   'generated_samples_24-02-28T14-47-57_jepa_2/2015-03-31-00-18-22_denoised_168.mp4.mp4',\n",
       "   'generated_samples_24-02-28T14-47-57_jepa_2/2015-10-02-11-46-40-608_denoised_85.mp4.mp4',\n",
       "   'generated_samples_24-02-28T14-47-57_jepa_2/2015-03-12-20-21-45_denoised_521.mp4.mp4',\n",
       "   'generated_samples_24-02-28T14-47-57_jepa_2/2015-03-28-18-06-57_denoised_1241.mp4.mp4',\n",
       "   'generated_samples_24-02-28T14-47-57_jepa_2/2015-03-28-18-24-12_denoised_416.mp4.mp4',\n",
       "   'generated_samples_24-02-28T14-47-57_jepa_2/2015-09-12-04-15-35-174_denoised_1561.mp4.mp4',\n",
       "   'generated_samples_24-02-28T14-47-57_jepa_2/2015-09-18-04-24-32-123_denoised_1334.mp4.mp4',\n",
       "   'generated_samples_24-02-28T14-47-57_jepa_2/2015-09-23-16-13-51-1_denoised_75.mp4.mp4',\n",
       "   'generated_samples_24-02-28T14-47-57_jepa_2/2015-09-23-16-13-51-1_denoised_733.mp4.mp4',\n",
       "   'generated_samples_24-02-28T14-47-57_jepa_2/2015-03-31-02-11-31_denoised_261.mp4.mp4',\n",
       "   'generated_samples_24-02-28T14-47-57_jepa_2/2015-09-29-16-10-13-1_denoised_262.mp4.mp4',\n",
       "   'generated_samples_24-02-28T14-47-57_jepa_2/2015-09-12-04-15-35-433_denoised_407.mp4.mp4',\n",
       "   'generated_samples_24-02-28T14-47-57_jepa_2/2015-09-18-04-24-32-3_denoised_1381.mp4.mp4',\n",
       "   'generated_samples_24-02-28T14-47-57_jepa_2/2015-09-24-14-41-06-753_denoised_184.mp4.mp4',\n",
       "   'generated_samples_24-02-28T14-47-57_jepa_2/2015-03-25-00-58-22_denoised_575.mp4.mp4',\n",
       "   'generated_samples_24-02-28T14-47-57_jepa_2/2015-03-20-01-23-48_denoised_864.mp4.mp4',\n",
       "   'generated_samples_24-02-28T14-47-57_jepa_2/2015-09-28-00-28-26-315_denoised_93.mp4.mp4',\n",
       "   'generated_samples_24-02-28T14-47-57_jepa_2/2015-03-20-02-27-12_denoised_1024.mp4.mp4',\n",
       "   'generated_samples_24-02-28T14-47-57_jepa_2/2015-09-28-14-40-11-198_denoised_336.mp4.mp4'],\n",
       "  [1,\n",
       "   0,\n",
       "   0,\n",
       "   0,\n",
       "   0,\n",
       "   0,\n",
       "   0,\n",
       "   0,\n",
       "   0,\n",
       "   0,\n",
       "   0,\n",
       "   0,\n",
       "   0,\n",
       "   0,\n",
       "   0,\n",
       "   0,\n",
       "   0,\n",
       "   0,\n",
       "   0,\n",
       "   0,\n",
       "   0,\n",
       "   0,\n",
       "   0,\n",
       "   0,\n",
       "   0,\n",
       "   0,\n",
       "   0,\n",
       "   0,\n",
       "   0,\n",
       "   0,\n",
       "   0,\n",
       "   0,\n",
       "   0,\n",
       "   0,\n",
       "   0,\n",
       "   1,\n",
       "   0,\n",
       "   0,\n",
       "   0,\n",
       "   0,\n",
       "   1,\n",
       "   0,\n",
       "   0,\n",
       "   0,\n",
       "   0,\n",
       "   0,\n",
       "   0,\n",
       "   0,\n",
       "   0,\n",
       "   0,\n",
       "   0,\n",
       "   0,\n",
       "   0,\n",
       "   0,\n",
       "   0,\n",
       "   0,\n",
       "   0,\n",
       "   0,\n",
       "   0,\n",
       "   0,\n",
       "   0,\n",
       "   0,\n",
       "   0,\n",
       "   0,\n",
       "   0,\n",
       "   0,\n",
       "   0,\n",
       "   0,\n",
       "   0,\n",
       "   0,\n",
       "   0,\n",
       "   0,\n",
       "   0,\n",
       "   0,\n",
       "   0,\n",
       "   1,\n",
       "   0,\n",
       "   0,\n",
       "   0,\n",
       "   0,\n",
       "   1,\n",
       "   0,\n",
       "   0,\n",
       "   0,\n",
       "   0,\n",
       "   0,\n",
       "   0,\n",
       "   0,\n",
       "   0,\n",
       "   0,\n",
       "   0,\n",
       "   0,\n",
       "   0,\n",
       "   0,\n",
       "   0,\n",
       "   0,\n",
       "   0,\n",
       "   0,\n",
       "   0,\n",
       "   0,\n",
       "   0,\n",
       "   0,\n",
       "   0,\n",
       "   0,\n",
       "   0,\n",
       "   0,\n",
       "   0,\n",
       "   0,\n",
       "   0,\n",
       "   0,\n",
       "   0,\n",
       "   0,\n",
       "   0,\n",
       "   0,\n",
       "   0,\n",
       "   1,\n",
       "   0,\n",
       "   0,\n",
       "   0,\n",
       "   0])}"
      ]
     },
     "execution_count": 9,
     "metadata": {},
     "output_type": "execute_result"
    }
   ],
   "source": [
    "combined_results = EvaluationMetricsCombiner(metrics)\n",
    "pprint(combined_results.combine())"
   ]
  },
  {
   "cell_type": "markdown",
   "metadata": {},
   "source": [
    "## Plotting\n",
    "Plotting the combined results. Here you can define the plotting directory."
   ]
  },
  {
   "cell_type": "code",
   "execution_count": 15,
   "metadata": {},
   "outputs": [
    {
     "data": {
      "text/plain": [
       "{'insync': PosixPath('insync.png'),\n",
       " 'insync_per_video': PosixPath('insync_per_video.png')}"
      ]
     },
     "execution_count": 15,
     "metadata": {},
     "output_type": "execute_result"
    }
   ],
   "source": [
    "# Define the output directory for the plots (if desired)\n",
    "# if not defined, the plots will not be saved but returned as matplotlib figures and\n",
    "# displayed in the notebook. (You can save them manually from the notebook)\n",
    "plot_dir = None\n",
    "combined_results.plot(plot_dir)"
   ]
  }
 ],
 "metadata": {
  "kernelspec": {
   "display_name": "eval_gen_audio_models",
   "language": "python",
   "name": "python3"
  },
  "language_info": {
   "codemirror_mode": {
    "name": "ipython",
    "version": 3
   },
   "file_extension": ".py",
   "mimetype": "text/x-python",
   "name": "python",
   "nbconvert_exporter": "python",
   "pygments_lexer": "ipython3",
   "version": "3.8.18"
  }
 },
 "nbformat": 4,
 "nbformat_minor": 2
}
